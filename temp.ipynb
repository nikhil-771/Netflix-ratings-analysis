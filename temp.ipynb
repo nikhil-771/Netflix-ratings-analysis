{
 "cells": [
  {
   "cell_type": "code",
   "execution_count": 4,
   "id": "7620bd89",
   "metadata": {},
   "outputs": [
    {
     "data": {
      "text/plain": [
       "Counter({'banana': 2, 'apple': 2, 'orange': 1})"
      ]
     },
     "execution_count": 4,
     "metadata": {},
     "output_type": "execute_result"
    }
   ],
   "source": [
    "from collections import Counter\n",
    "\n",
    "\n",
    "data = ['banana', 'apple', 'orange', 'banana', 'apple']\n",
    "\n",
    "count = Counter(data)\n",
    "count"
   ]
  },
  {
   "cell_type": "code",
   "execution_count": 9,
   "id": "095e3f9e",
   "metadata": {},
   "outputs": [
    {
     "name": "stdout",
     "output_type": "stream",
     "text": [
      "[('A', 'B'), ('A', 'C'), ('B', 'C')]\n"
     ]
    }
   ],
   "source": [
    "import itertools\n",
    "\n",
    "items = ['A', 'B', 'C']\n",
    "perms = list(itertools.permutations(items, 2))\n",
    "perms = list(itertools.combinations(items, 2))\n",
    "print(perms)\n",
    "\n"
   ]
  },
  {
   "cell_type": "code",
   "execution_count": 6,
   "id": "d716e3e2",
   "metadata": {},
   "outputs": [
    {
     "name": "stdout",
     "output_type": "stream",
     "text": [
      "Counter({('A', 'C'): 2, ('A', 'B'): 1, ('A', 'A'): 1, ('B', 'A'): 1, ('B', 'C'): 1})\n"
     ]
    }
   ],
   "source": [
    "from collections import Counter\n",
    "import itertools\n",
    "\n",
    "pairs = list(itertools.combinations(['A', 'B', 'A', 'C'], 2))\n",
    "count_pairs = Counter(pairs)\n",
    "print(count_pairs)\n"
   ]
  }
 ],
 "metadata": {
  "kernelspec": {
   "display_name": "Python 3",
   "language": "python",
   "name": "python3"
  },
  "language_info": {
   "codemirror_mode": {
    "name": "ipython",
    "version": 3
   },
   "file_extension": ".py",
   "mimetype": "text/x-python",
   "name": "python",
   "nbconvert_exporter": "python",
   "pygments_lexer": "ipython3",
   "version": "3.12.1"
  }
 },
 "nbformat": 4,
 "nbformat_minor": 5
}
