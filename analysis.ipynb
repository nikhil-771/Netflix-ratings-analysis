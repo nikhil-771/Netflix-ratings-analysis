{
 "cells": [
  {
   "cell_type": "markdown",
   "id": "99baa7e7",
   "metadata": {},
   "source": [
    "# Netflix ratings analysis"
   ]
  },
  {
   "cell_type": "markdown",
   "id": "b2c97aa1",
   "metadata": {},
   "source": [
    "## Introduction\n",
    "This project aims to analyse the ratings of Netflix movies and TV shows."
   ]
  },
  {
   "cell_type": "code",
   "execution_count": 1,
   "id": "8943c342",
   "metadata": {},
   "outputs": [],
   "source": [
    "import numpy as np \n",
    "import pandas as pd \n",
    "import matplotlib.pyplot as plt \n",
    "import seaborn as sns"
   ]
  },
  {
   "cell_type": "markdown",
   "id": "02381144",
   "metadata": {},
   "source": [
    "### Loading data"
   ]
  },
  {
   "cell_type": "code",
   "execution_count": null,
   "id": "2614c692",
   "metadata": {},
   "outputs": [
    {
     "name": "stdout",
     "output_type": "stream",
     "text": [
      "Data Loaded successfully\n"
     ]
    }
   ],
   "source": [
    "try:\n",
    "    df = pd.read_csv(\"netflix_titles.csv\")\n",
    "    print(\"Data Loaded successfully\")\n",
    "except FileNotFoundError:\n",
    "    print(\"File 'netflix_titles.csv' not found\")\n",
    "except Exception as e:\n",
    "    print(\"Unknown error occured: {e}\")"
   ]
  }
 ],
 "metadata": {
  "kernelspec": {
   "display_name": "Python 3",
   "language": "python",
   "name": "python3"
  },
  "language_info": {
   "codemirror_mode": {
    "name": "ipython",
    "version": 3
   },
   "file_extension": ".py",
   "mimetype": "text/x-python",
   "name": "python",
   "nbconvert_exporter": "python",
   "pygments_lexer": "ipython3",
   "version": "3.12.1"
  }
 },
 "nbformat": 4,
 "nbformat_minor": 5
}
