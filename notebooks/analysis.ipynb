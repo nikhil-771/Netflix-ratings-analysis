{
 "cells": [
  {
   "cell_type": "markdown",
   "id": "99baa7e7",
   "metadata": {},
   "source": [
    "# Netflix ratings analysis"
   ]
  },
  {
   "cell_type": "markdown",
   "id": "b2c97aa1",
   "metadata": {},
   "source": [
    "## Introduction\n",
    "This project aims to analyse the ratings of Netflix movies and TV shows.\n",
    "### Dataset \n",
    "The dataset consists of listings of all the movies and tv shows available on Netflix, along with details such as - cast, directors, ratings, release year, duration, etc. as of mid 2021.\n",
    "https://www.kaggle.com/datasets/shivamb/netflix-shows"
   ]
  },
  {
   "cell_type": "markdown",
   "id": "c2c4c896",
   "metadata": {},
   "source": [
    "### Importing required libraries"
   ]
  },
  {
   "cell_type": "code",
   "execution_count": null,
   "id": "8943c342",
   "metadata": {},
   "outputs": [],
   "source": [
    "import numpy as np \n",
    "import pandas as pd \n",
    "import matplotlib.pyplot as plt \n",
    "import seaborn as sns"
   ]
  },
  {
   "cell_type": "markdown",
   "id": "02381144",
   "metadata": {},
   "source": [
    "### Loading data"
   ]
  },
  {
   "cell_type": "code",
   "execution_count": null,
   "id": "2614c692",
   "metadata": {},
   "outputs": [],
   "source": [
    "try:\n",
    "    df = pd.read_csv(\"../data/netflix_titles.csv\")\n",
    "    if df.empty:\n",
    "        raise ValueError(\"Loaded empty DataFrame\")\n",
    "    else:\n",
    "        print(\"Data Loaded successfully\")\n",
    "except FileNotFoundError:\n",
    "    print(\"File 'netflix_titles.csv' not found\")\n",
    "except Exception as e:\n",
    "    print(f\"[ERROR] An unexpected error occurred: {type(e).__name__}: {e}\")"
   ]
  },
  {
   "cell_type": "markdown",
   "id": "23c2b50e",
   "metadata": {},
   "source": [
    "### Data Overview"
   ]
  },
  {
   "cell_type": "code",
   "execution_count": null,
   "id": "159a495e",
   "metadata": {},
   "outputs": [],
   "source": [
    "print(f\"Total columns:\\t{df.shape[1]}\")\n",
    "print(f\"Total rows:\\t{df.shape[0]}\")\n",
    "print(f\"Column names:\\n{list(df.columns)}\")\n",
    "\n",
    "\n",
    "df.info()\n",
    "display(df.head(2))\n",
    "display(df.tail(2))"
   ]
  },
  {
   "cell_type": "markdown",
   "id": "0b3784ce",
   "metadata": {},
   "source": [
    "### Data information:\n",
    "There are total 12 columns.  \n",
    "Issues found  \n",
    "missing values in mulitple columns.  \n",
    "3 in duration  \n",
    "4 in ratings  \n",
    "10 in date_added  \n",
    "over 800 in cast  \n",
    "over 800 in country  \n",
    "over 2500 in director  \n",
    "date_added is object type.\n"
   ]
  },
  {
   "cell_type": "markdown",
   "id": "767b20d4",
   "metadata": {},
   "source": [
    "### Data Cleaning\n",
    "First convert wrong data types into correct usable ones (e.g. 'duration' from string to time, 'rating' from string to float)"
   ]
  },
  {
   "cell_type": "markdown",
   "id": "457c4393",
   "metadata": {},
   "source": [
    "Backup the original dataset before transformations"
   ]
  },
  {
   "cell_type": "code",
   "execution_count": null,
   "id": "28b24009",
   "metadata": {},
   "outputs": [],
   "source": [
    "# Duplicate dataframe for recovery\n",
    "dff = df.copy() "
   ]
  },
  {
   "cell_type": "code",
   "execution_count": null,
   "id": "e63036b7",
   "metadata": {},
   "outputs": [],
   "source": [
    "# column wise cleaning\n",
    "\n",
    "# standardize capitalization\n",
    "df['type'] = df['type'].str.strip().str.title()\n",
    "\n",
    "# removing extra whitespace\n",
    "df['title'] = df['title'].str.strip() \n",
    "\n",
    "# Fill empty cells with Unknown\n",
    "df['director'] = df['director'].fillna(\"Unknown\")\n",
    "df['cast'] = df['cast'].fillna(\"Unknown\")\n",
    "df['country'] = df['country'].fillna(\"Unknown\")\n",
    "\n",
    "# convert from string to datetime\n",
    "# leave inavlid/empty dates as NaT\n",
    "df['date_added'] = pd.to_datetime(df['date_added'], errors='coerce')\n",
    "\n",
    "\n",
    "\n",
    "# fill 'Unknown' to empty cells, remove blank space, and convert to upper case\n",
    "df['rating'] = df['rating'].fillna('Unknown').str.strip().str.upper()\n",
    "\n",
    "# Replace rare rating categories (frequency < 10) with 'Other'\n",
    "\n",
    "rating_count = df['rating'].value_counts()\n",
    "rare_rating_count = rating_count[rating_count < 10]\n",
    "rare_rating_categories = rare_rating_count.index\n",
    "df['rating'] = df['rating'].replace(rare_rating_categories, 'Other')\n",
    "df['rating'].value_counts()\n",
    "# since there were only 4 'UNKNOWN' values they were replaced with Other\n",
    "\n"
   ]
  },
  {
   "cell_type": "code",
   "execution_count": null,
   "id": "cf4a9981",
   "metadata": {},
   "outputs": [],
   "source": [
    "# clean remaining columns - duration, listed_in, description\n",
    "# duration column has 'x min' for movies and 'x seasons' for TV shows\n",
    "# create two new columns seaparating them 'duration_time' and 'duration_type' \n",
    "\n",
    "# using column wise sending\n",
    "\n",
    "def extract_time(x):\n",
    "    try:\n",
    "        if pd.isna(x):\n",
    "            return np.nan\n",
    "        return int(x.strip().split()[0])\n",
    "    except Exception:\n",
    "        return np.nan\n",
    "    \n",
    "def extract_type(x):\n",
    "    try:\n",
    "        if pd.isna(x):\n",
    "            return np.nan\n",
    "        else:\n",
    "            return x.strip().split()[1]\n",
    "    except Exception:\n",
    "        return np.nan\n",
    "    \n",
    "df['duration_time'] = df['duration'].apply(extract_time)\n",
    "df['duration_type'] = df['duration'].apply(extract_type)\n"
   ]
  },
  {
   "cell_type": "code",
   "execution_count": null,
   "id": "e6549b5f",
   "metadata": {},
   "outputs": [],
   "source": [
    "# row-wise sending row\n",
    "# creating colums 'duration_time' and 'duration_type' \n",
    "\"\"\"def extract_time(row):\n",
    "    try:\n",
    "        if pd.isna(row['duration']):\n",
    "            return np.nan\n",
    "        else:\n",
    "            return int(row['duration'].strip().split()[0])\n",
    "    except Exception:\n",
    "        return np.nan\n",
    "    \n",
    "def extract_duration(row):\n",
    "    try:\n",
    "        if pd.isna(row['duration']):\n",
    "            return np.nan\n",
    "        else:\n",
    "            return row['duration'].strip().split()[1]\n",
    "    except Exception:\n",
    "        return np.nan\n",
    "\n",
    "df['duration_time'] = df.apply(extract_time, axis=1)\n",
    "df['duration_type'] = df.apply(extract_duration, axis=1)\"\"\"\n",
    "# for demonstration purpose only"
   ]
  },
  {
   "cell_type": "code",
   "execution_count": null,
   "id": "900658eb",
   "metadata": {},
   "outputs": [],
   "source": [
    "# Standardize duration units \n",
    "# convert mins to min and seasons to season\n",
    "df['duration_type'] = df['duration_type'].replace({\n",
    "    'mins': 'min',\n",
    "    'Seasons': 'Season',\n",
    "    'seasons': 'Season'\n",
    "})\n",
    "\n",
    "\n",
    "df['listed_in'] = df['listed_in'].str.strip()\n",
    "# df['listed_in'] = df['listed_in'].apply(lambda x: ', '.join(i.strip() for i in x.split(',')) if pd.notna(x) else x)\n",
    "\n",
    "df['description'] = df['description'].str.strip()\n"
   ]
  },
  {
   "cell_type": "code",
   "execution_count": null,
   "id": "ef0724ed",
   "metadata": {},
   "outputs": [],
   "source": [
    "# remove duplicates\n",
    "df.drop_duplicates(inplace=True)\n",
    "df.drop_duplicates(subset=['title'], inplace=True)\n",
    "df.drop_duplicates(subset='show_id', inplace=True)\n",
    "df.reset_index(drop=True, inplace=True) #drop used to drop old index\n"
   ]
  },
  {
   "cell_type": "markdown",
   "id": "eddfeab1",
   "metadata": {},
   "source": [
    "### Save cleaned data into new csv file 'netflix_cleaned.csv'"
   ]
  },
  {
   "cell_type": "code",
   "execution_count": null,
   "id": "84bb115f",
   "metadata": {},
   "outputs": [],
   "source": [
    "df.to_csv(\"../data/netflix_cleaned.csv\")"
   ]
  },
  {
   "cell_type": "markdown",
   "id": "8b8d8c5b",
   "metadata": {},
   "source": [
    "## Analysis"
   ]
  },
  {
   "cell_type": "code",
   "execution_count": null,
   "id": "1ef0f307",
   "metadata": {},
   "outputs": [],
   "source": [
    "# Movie vs Tv-shows count\n",
    "def count_using_seaborn():\n",
    "\n",
    "    plt.figure(figsize=(5,5))\n",
    "    ax = sns.countplot(data=df, x='type', color='yellow', edgecolor='black')\n",
    "    for bar in ax.patches:\n",
    "        height = bar.get_height()\n",
    "        ax.text(bar.get_x() + bar.get_width()/2, height+0.10, \n",
    "                str(height),\n",
    "                ha='center',\n",
    "                va='bottom',\n",
    "                fontweight='bold')\n",
    "    plt.title(\"Movie vs TV-Shows\")\n",
    "    plt.xlabel(\"Category\")\n",
    "    plt.show()\n",
    "\n",
    "\n",
    "def count_using_matplotlib():\n",
    "    type_count = df['type'].value_counts()\n",
    "    ls = np.arange(0, type_count.values.max(), 500)\n",
    "    plt.figure(figsize=(5,5))\n",
    "    bars = plt.bar(type_count.index, type_count.values, color='green', edgecolor='black')\n",
    "    \n",
    "    for bar in bars:\n",
    "        height = bar.get_height()\n",
    "        plt.text(\n",
    "            bar.get_x() + bar.get_width()/2, height+10, \n",
    "                str(height), \n",
    "                ha='center',\n",
    "                va='bottom', \n",
    "                fontweight='bold'\n",
    "                )\n",
    "    \n",
    "    plt.yticks(ls)\n",
    "    plt.title(\"Movie vs TV-Shows\")\n",
    "    plt.xlabel(\"Category\", fontdict={'fontweight':'bold'})\n",
    "    plt.show()\n",
    "\n",
    "count_using_matplotlib()\n",
    "# count_using_seaborn()"
   ]
  },
  {
   "cell_type": "markdown",
   "id": "e22fe4f0",
   "metadata": {},
   "source": [
    "**Insights**  \n",
    "Movies are almost 2 times than Tv shows"
   ]
  },
  {
   "cell_type": "code",
   "execution_count": null,
   "id": "542b26da",
   "metadata": {},
   "outputs": [],
   "source": [
    "# Genere distribution\n",
    "display(df['listed_in'].head(5))\n",
    "# cells in df['listed_in' can have more than 1 genere seaprated by ','\n",
    "# split each cell's item by ',' \n",
    "# and remove extra blsnkspace\n",
    "\n",
    "all_genre = []\n",
    "all_genre = [g.strip() for item in df['listed_in'] for g in item.split(',') ]\n",
    "\n",
    "# or in simplere way\n",
    "\n",
    "# all_genre = []\n",
    "# for item in df['listed_in']:\n",
    "#     genres = item.split(',')          # Split the string into a list of genres\n",
    "#     for g in genres:\n",
    "#         all_genre.append(g.strip())   # Strip spaces and append to final list\n",
    "\n",
    "\n",
    "all_genre\n",
    "all_genre_count = pd.Series(all_genre).value_counts()\n",
    "all_genre_count\n",
    "\n",
    "\n",
    "plt.figure(figsize=(10,7))\n",
    "plt.xticks(rotation=90)\n",
    "plt.title(\"Count of each genere\", fontsize=15, fontweight='bold')\n",
    "plt.yticks(fontweight='bold')\n",
    "plt.xticks(fontweight='bold')\n",
    "\n",
    "plt.bar(all_genre_count.index, all_genre_count.values, edgecolor='black')\n",
    "# plt.barh( all_genre_count.index, all_genre_count.values)\n",
    "# sns.countplot(data=flat_genres, order=order)\n",
    "plt.show()"
   ]
  },
  {
   "cell_type": "markdown",
   "id": "d2ca85c4",
   "metadata": {},
   "source": [
    "**Insights**  \n",
    "International Movies is the most common content type, followed by Dramas and Comidies"
   ]
  },
  {
   "cell_type": "code",
   "execution_count": null,
   "id": "affd1295",
   "metadata": {},
   "outputs": [],
   "source": [
    "# Ratings Distribution\n",
    "\n",
    "def plot_ratings_distribution(category):\n",
    "    if category=='separate':\n",
    "        ax = sns.countplot(data=df, x='rating'\n",
    "              ,order=df['rating'].value_counts().index,\n",
    "              edgecolor='black',\n",
    "              hue='type',\n",
    "              palette='dark')\n",
    "    else :\n",
    "        ax = sns.countplot(data=df,\n",
    "              x='rating',\n",
    "              order=df['rating'].value_counts().index,\n",
    "              color='green',\n",
    "              edgecolor='black',\n",
    "              hue='rating', # added hue for using palette\n",
    "              palette='dark')\n",
    "    for bar in ax.patches:\n",
    "        height = bar.get_height()\n",
    "        x = bar.get_x() + bar.get_width()/2 + 0.1 # extra 0.1 for better eadability\n",
    "        y = height + 25\n",
    "        if category=='separate': # rotate annotaion by 90\n",
    "            ax.text(x,y, str(height), ha='center', va='bottom', rotation = 90)\n",
    "        else: # do not rotate annotation\n",
    "            ax.text(x,y, str(height), ha='center', va='bottom', fontweight='bold')\n",
    "\n",
    "\n",
    "    if category=='separate': # rotate annotaion by 90\n",
    "        plt.title(\"Ratings distribution of Movies and Tv shows\")\n",
    "    else:\n",
    "        plt.title(\"Ratings distribution\")\n",
    "    plt.tight_layout()\n",
    "    plt.show()\n",
    "\n",
    "plot_ratings_distribution(None) # Combined ratings in green\n",
    "plot_ratings_distribution('separate') # Separate bars by 'type'\n"
   ]
  },
  {
   "cell_type": "markdown",
   "id": "6e825152",
   "metadata": {},
   "source": [
    "**Insights**  \n",
    "TV-MA is the most common rating.\n",
    "TV-14 is second most common rating.\n",
    "Most of content in Netflix is not for children or need adult supervision."
   ]
  },
  {
   "cell_type": "code",
   "execution_count": null,
   "id": "85b273dc",
   "metadata": {},
   "outputs": [],
   "source": [
    "# content realsed by Netflix in last n years\n",
    "def plot_content_releases(last_n_years=10):\n",
    "    total_content_per_year = df['release_year'].value_counts()\n",
    "    data = total_content_per_year.sort_index(ascending=False).head(last_n_years)\n",
    "    # display(data)\n",
    "    plt.figure(figsize=(12, 5))\n",
    "    sns.lineplot(x=data.index, y=data.values, marker='o', color='red', label=\"content realsed\")\n",
    "    plt.title(f\"Netflix Content Release Over the Last {last_n_years} Years\")\n",
    "    plt.xlabel(\"Year\")\n",
    "    plt.ylabel(\"Number of Titles\")\n",
    "    plt.grid(True, alpha=0.5)\n",
    "    \n",
    "    max_year = data.index.max()\n",
    "    min_year = data.index.min()\n",
    "    plt.xticks(np.arange(min_year, max_year+1, 1))\n",
    "\n",
    "    \n",
    "    \n",
    "    plt.annotate(\n",
    "        f\"Data as of September 2021\",\n",
    "        xy=(0.95, 0.05),\n",
    "        xycoords='axes fraction',\n",
    "        # xycoords='figure fraction',\n",
    "\n",
    "        ha='right',\n",
    "        va='bottom',\n",
    "        fontsize=10,\n",
    "        color='gray'\n",
    "    )\n",
    "    \n",
    "    plt.show()\n",
    "\n",
    "n_years = 15 # last n years of data\n",
    "plot_content_releases(n_years)"
   ]
  },
  {
   "cell_type": "markdown",
   "id": "ed5b48fb",
   "metadata": {},
   "source": [
    "**Insights**  \n",
    "*Data From 2007 to mid 2021:*  \n",
    "Netflix realses kept rising since 2007 and saw first minor drop in 2011.  \n",
    "Netflix content released doubled almost every 2 years from 2011 to 2016.  \n",
    "In 2018 netflix released highest number of content in its history with over 1100 production.  \n",
    "The second drop was in 2019 and kept decreasing.  \n"
   ]
  },
  {
   "cell_type": "code",
   "execution_count": null,
   "id": "b40fc0f2",
   "metadata": {},
   "outputs": [],
   "source": [
    "# Movie length distribution\n",
    "df_movies = df[df[\"type\"] == 'Movie'].copy()\n",
    "df_movies = df_movies[df_movies['duration_time'].notna()]\n",
    "\n",
    "# Make sure duration_time is float (if not already)\n",
    "df_movies['duration_time'] = df_movies['duration_time'].astype(float)\n",
    "\n",
    "\n",
    "# confirm duration to be float\n",
    "# df_movies.info()\n",
    "def all_movies():\n",
    "    \n",
    "    sns.histplot(df_movies['duration_time'], bins=30, kde=True, color='blue', edgecolor='black')\n",
    "    plt.xlabel(\"Duration (in minutes)\")\n",
    "    plt.ylabel('count')\n",
    "    plt.title(\"Movie Length distribution\")\n",
    "    plt.xticks(np.arange(0, df_movies['duration_time'].max(), 20))\n",
    "    plt.show()\n",
    "\n",
    "def movie_length_x_y(min_time=30, max_time=200):\n",
    "    \n",
    "    filtered = df_movies[(df_movies['duration_time']>=min_time) & (df_movies['duration_time']<=max_time)]\n",
    "    \n",
    "    sns.histplot(filtered['duration_time'], bins=30, kde=True, color='blue', edgecolor='black')\n",
    "    \n",
    "    plt.title(f\"Movies duration between {min_time} and {max_time} minutes\")\n",
    "    plt.xlabel(\"Duration (in minutes)\")\n",
    "    plt.ylabel('count')\n",
    "    plt.xticks(np.arange(30, filtered['duration_time'].max()+20, 20))\n",
    "    plt.show()\n",
    "all_movies()\n",
    "movie_length_x_y(min_time=30,max_time=150)"
   ]
  },
  {
   "cell_type": "markdown",
   "id": "1b10a548",
   "metadata": {},
   "source": [
    "**Insights**  \n",
    "Most movies are 80 to 130 minutes long.  \n",
    "Few movies of length smaller than 50 minutes, some were even less than of 10 or 5 minutes.  \n",
    "Few movies over 160 minutes, and some surpased 300 minutes."
   ]
  },
  {
   "cell_type": "code",
   "execution_count": null,
   "id": "5c317aca",
   "metadata": {},
   "outputs": [],
   "source": [
    "# Top content producing countires\n",
    "\n",
    "df_country = df['country'].dropna() # drop rows wiht no country\n",
    "df_country = df_country[df_country != 'Unknown'] # remove Unkown countires\n",
    "\n",
    "# since a cell can contain multiple countres separated by ','\n",
    "# split each string into a list of countries\n",
    "df_country = df_country.apply(lambda x: x.split(','))\n",
    "\n",
    "# remove blank spaces from each country name in list\n",
    "df_country = df_country.apply(lambda x: [item.strip() for item in x])\n",
    "# Flatten the list\n",
    "df_country = df_country.explode()\n",
    "\n",
    "df_country = df_country.value_counts().head(15) # select only top 15\n",
    "\n",
    "\n",
    "ax = sns.barplot(\n",
    "        x=df_country.values,\n",
    "        y=df_country.index,\n",
    "        hue=df_country.index,  # Assign hue same as y to us palette\n",
    "        palette='viridis',\n",
    "        edgecolor='black',\n",
    "        linewidth=0.5,\n",
    "    )\n",
    "plt.title(\"Top 15 Countries by Netflix Content Production\")\n",
    "\n",
    "# Add value labels\n",
    "for i, value in enumerate(df_country.values):\n",
    "    ax.text(value + 30, i, f'{value:,}', va='center', fontsize=10)\n",
    "\n",
    "plt.annotate(\"Note:\\nData as of mid 2021\\nSome titles are co-productions between multiple countries\",\n",
    "            xy=(0.5, -0.1),\n",
    "            xycoords='axes fraction',\n",
    "            ha='center',\n",
    "            va='top',\n",
    "            fontsize=9)\n",
    "plt.xlim(0, df_country.max() * 1.1)  # Add padding for labels\n",
    "plt.tight_layout()\n",
    "plt.show()"
   ]
  },
  {
   "cell_type": "markdown",
   "id": "a621cd7c",
   "metadata": {},
   "source": [
    "**Insights**  \n",
    "*Some content was co-produced in more than 1 nation*  \n",
    "US produced most content, more than next 6 nations combined, almost as much as next seven.  \n",
    "US, India, UK, Canada, France are the top 5 nations.  \n",
    "Surprisingly small nation like Hong Kon was in top 15 most Netflix titels producing nation.  \n",
    "Despite with large population, China was in 11th position with 162 titels, while India with similar population almost produced 5 times. May be content restrictions is a contributing factor in production capcity.  "
   ]
  },
  {
   "cell_type": "code",
   "execution_count": null,
   "id": "8732d88d",
   "metadata": {},
   "outputs": [],
   "source": [
    "# Average movie duration per rating\n",
    "duration_rating_df = df[['rating', 'duration_time']]\n",
    "sort = duration_rating_df.groupby('rating')['duration_time'].mean().sort_values(ascending=False)\n",
    "\n",
    "sns.barplot( x='rating', y='duration_time', data = duration_rating_df, estimator='mean', edgecolor='black', order = sort.index)\n",
    "plt.xticks(rotation=60)\n",
    "plt.title(\"Average movie duration per rating\")\n",
    "plt.yticks(np.arange(0,sort.max() * 1.1, 10))\n",
    "plt.show()"
   ]
  },
  {
   "cell_type": "markdown",
   "id": "774fdc53",
   "metadata": {},
   "source": [
    "**Insights**\n",
    "PG-13 has highest average duration, closely followed by R.  \n",
    "Other or Unrated category had highest variations.  \n",
    "TV-Y was has lowest duration.  "
   ]
  },
  {
   "cell_type": "code",
   "execution_count": 42,
   "id": "6ae341d7",
   "metadata": {},
   "outputs": [
    {
     "data": {
      "text/html": [
       "<div>\n",
       "<style scoped>\n",
       "    .dataframe tbody tr th:only-of-type {\n",
       "        vertical-align: middle;\n",
       "    }\n",
       "\n",
       "    .dataframe tbody tr th {\n",
       "        vertical-align: top;\n",
       "    }\n",
       "\n",
       "    .dataframe thead th {\n",
       "        text-align: right;\n",
       "    }\n",
       "</style>\n",
       "<table border=\"1\" class=\"dataframe\">\n",
       "  <thead>\n",
       "    <tr style=\"text-align: right;\">\n",
       "      <th></th>\n",
       "      <th>director</th>\n",
       "      <th>count</th>\n",
       "    </tr>\n",
       "  </thead>\n",
       "  <tbody>\n",
       "    <tr>\n",
       "      <th>0</th>\n",
       "      <td>Rajiv Chilaka</td>\n",
       "      <td>22</td>\n",
       "    </tr>\n",
       "    <tr>\n",
       "      <th>1</th>\n",
       "      <td>Jan Suter</td>\n",
       "      <td>21</td>\n",
       "    </tr>\n",
       "    <tr>\n",
       "      <th>2</th>\n",
       "      <td>Raúl Campos</td>\n",
       "      <td>19</td>\n",
       "    </tr>\n",
       "    <tr>\n",
       "      <th>3</th>\n",
       "      <td>Marcus Raboy</td>\n",
       "      <td>16</td>\n",
       "    </tr>\n",
       "    <tr>\n",
       "      <th>4</th>\n",
       "      <td>Suhas Kadav</td>\n",
       "      <td>16</td>\n",
       "    </tr>\n",
       "    <tr>\n",
       "      <th>5</th>\n",
       "      <td>Jay Karas</td>\n",
       "      <td>15</td>\n",
       "    </tr>\n",
       "    <tr>\n",
       "      <th>6</th>\n",
       "      <td>Cathy Garcia-Molina</td>\n",
       "      <td>13</td>\n",
       "    </tr>\n",
       "    <tr>\n",
       "      <th>7</th>\n",
       "      <td>Martin Scorsese</td>\n",
       "      <td>12</td>\n",
       "    </tr>\n",
       "    <tr>\n",
       "      <th>8</th>\n",
       "      <td>Youssef Chahine</td>\n",
       "      <td>12</td>\n",
       "    </tr>\n",
       "    <tr>\n",
       "      <th>9</th>\n",
       "      <td>Jay Chapman</td>\n",
       "      <td>12</td>\n",
       "    </tr>\n",
       "    <tr>\n",
       "      <th>10</th>\n",
       "      <td>Steven Spielberg</td>\n",
       "      <td>11</td>\n",
       "    </tr>\n",
       "    <tr>\n",
       "      <th>11</th>\n",
       "      <td>Don Michael Paul</td>\n",
       "      <td>10</td>\n",
       "    </tr>\n",
       "  </tbody>\n",
       "</table>\n",
       "</div>"
      ],
      "text/plain": [
       "               director  count\n",
       "0         Rajiv Chilaka     22\n",
       "1             Jan Suter     21\n",
       "2           Raúl Campos     19\n",
       "3          Marcus Raboy     16\n",
       "4           Suhas Kadav     16\n",
       "5             Jay Karas     15\n",
       "6   Cathy Garcia-Molina     13\n",
       "7       Martin Scorsese     12\n",
       "8       Youssef Chahine     12\n",
       "9           Jay Chapman     12\n",
       "10     Steven Spielberg     11\n",
       "11     Don Michael Paul     10"
      ]
     },
     "execution_count": 42,
     "metadata": {},
     "output_type": "execute_result"
    }
   ],
   "source": [
    "# top directors\n",
    "t = df['director']\n",
    "# drop 'Unkown' or empty values\n",
    "# split by ',' as one cell may have more than 1 names\n",
    "# use, explode to separate names, and strip to remove blank space, and value_count to count\n",
    "t = t[t!='Unknown'].dropna().str.split(',').explode().str.strip().value_counts()\n",
    "# .explode().str.strip()\n",
    "\n",
    "t = t.reset_index()\n",
    "t.columns = ['director', 'count']\n",
    "t = t[t['count'] >= 10]\n",
    "t"
   ]
  },
  {
   "cell_type": "code",
   "execution_count": null,
   "id": "89606c8b",
   "metadata": {},
   "outputs": [
    {
     "data": {
      "image/png": "[encoded data removed]",
      "text/plain": [
       "<Figure size 640x480 with 1 Axes>"
      ]
     },
     "metadata": {},
     "output_type": "display_data"
    }
   ],
   "source": [
    "ax = sns.barplot(data=t, x='director', y='count',  edgecolor='black', hue='director', palette='viridis')\n",
    "\n",
    "plt.xticks(rotation=70)\n",
    "\n",
    "for bar in ax.patches:\n",
    "    height = bar.get_height()\n",
    "    x = bar.get_x() + bar.get_width()/2\n",
    "    y = height + 0.2\n",
    "    ax.text(x, y, str(height),\n",
    "            ha='center')\n",
    "\n",
    "plt.title(\"Directors with atleast 10 productions\")\n",
    "plt.show()\n"
   ]
  },
  {
   "cell_type": "markdown",
   "id": "28ca080e",
   "metadata": {},
   "source": [
    "**Insights**  \n",
    "Rajiv Chilaka is most producing director, closely followed by jan Suter"
   ]
  }
 ],
 "metadata": {
  "kernelspec": {
   "display_name": "Python 3",
   "language": "python",
   "name": "python3"
  },
  "language_info": {
   "codemirror_mode": {
    "name": "ipython",
    "version": 3
   },
   "file_extension": ".py",
   "mimetype": "text/x-python",
   "name": "python",
   "nbconvert_exporter": "python",
   "pygments_lexer": "ipython3",
   "version": "3.12.1"
  }
 },
 "nbformat": 4,
 "nbformat_minor": 5
}
